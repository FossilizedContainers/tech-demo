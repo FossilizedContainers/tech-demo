{
 "cells": [
  {
   "cell_type": "code",
   "execution_count": null,
   "id": "2b5d3b82",
   "metadata": {},
   "outputs": [],
   "source": [
    "%load_ext autoreload\n",
    "%autoreload 2\n",
    "\n",
    "import LMRt\n",
    "import os\n",
    "import numpy as np\n",
    "import pandas as pd\n",
    "import xarray as xr"
   ]
  },
  {
   "cell_type": "code",
   "execution_count": null,
   "id": "1bccbefb",
   "metadata": {},
   "outputs": [],
   "source": [
    "job = LMRt.ReconJob()\n",
    "job.load_configs(cfg_path='testcases/PAGES2k_CCSM4_GISTEMP/configs.yml', verbose=True)"
   ]
  },
  {
   "cell_type": "code",
   "execution_count": null,
   "id": "04cfd556",
   "metadata": {},
   "outputs": [],
   "source": [
    "job.load_proxydb(verbose=True)"
   ]
  },
  {
   "cell_type": "code",
   "execution_count": null,
   "id": "fe3ba569",
   "metadata": {},
   "outputs": [],
   "source": [
    "job.filter_proxydb(verbose=True)"
   ]
  },
  {
   "cell_type": "code",
   "execution_count": null,
   "id": "cb7d3e87",
   "metadata": {},
   "outputs": [],
   "source": [
    "job.seasonalize_proxydb(verbose=True)"
   ]
  },
  {
   "cell_type": "code",
   "execution_count": null,
   "id": "724409c5",
   "metadata": {},
   "outputs": [],
   "source": [
    "job.load_prior(verbose=True)"
   ]
  },
  {
   "cell_type": "code",
   "execution_count": null,
   "id": "d528fc91",
   "metadata": {},
   "outputs": [],
   "source": [
    "job.load_obs(verbose=True)"
   ]
  },
  {
   "cell_type": "code",
   "execution_count": null,
   "id": "0a4d9c19",
   "metadata": {},
   "outputs": [],
   "source": [
    "%%time\n",
    "job_dirpath = job.configs['job_dirpath']\n",
    "seasonalized_prior_path = os.path.join(job_dirpath, 'seasonalized_prior.pkl')\n",
    "seasonalized_obs_path = os.path.join(job_dirpath, 'seasonalized_obs.pkl')\n",
    "prior_loc_path = os.path.join(job_dirpath, 'prior_loc.pkl')\n",
    "obs_loc_path = os.path.join(job_dirpath, 'obs_loc.pkl')\n",
    "calibed_psm_path = os.path.join(job_dirpath, 'calibed_psm.pkl')\n",
    "\n",
    "job.calibrate_psm(\n",
    "    seasonalized_prior_path=seasonalized_prior_path,\n",
    "    seasonalized_obs_path=seasonalized_obs_path,\n",
    "    prior_loc_path=prior_loc_path,\n",
    "    obs_loc_path=obs_loc_path,\n",
    "    calibed_psm_path=calibed_psm_path,\n",
    "    verbose=True,\n",
    ")"
   ]
  },
  {
   "cell_type": "code",
   "execution_count": null,
   "id": "dac3de2b",
   "metadata": {},
   "outputs": [],
   "source": [
    "job.forward_psm(verbose=True)"
   ]
  },
  {
   "cell_type": "code",
   "execution_count": null,
   "id": "b878215d",
   "metadata": {},
   "outputs": [],
   "source": [
    "job.seasonalize_prior(verbose=True)\n",
    "job.regrid_prior(verbose=True)"
   ]
  },
  {
   "cell_type": "code",
   "execution_count": null,
   "id": "91761ac2",
   "metadata": {},
   "outputs": [],
   "source": [
    "job.save()\n",
    "\n",
    "# The above equals to below:\n",
    "# del(job.seasonalized_prior)\n",
    "# del(job.seasonalized_obs)\n",
    "# pd.to_pickle(job, os.path.join(job_dirpath, 'job.pkl')"
   ]
  },
  {
   "cell_type": "code",
   "execution_count": null,
   "id": "6f2891ee",
   "metadata": {},
   "outputs": [],
   "source": [
    "%%time\n",
    "# job_dirpath = '...'  # set a correct directory path\n",
    "# job = pd.read_pickle(os.path.join(job_dirpath, 'job.pkl'))\n",
    "job.run(recon_seeds=np.arange(1), verbose=True)"
   ]
  },
  {
   "cell_type": "code",
   "execution_count": null,
   "id": "2619b031",
   "metadata": {},
   "outputs": [],
   "source": [
    "# create the res object for reconstruction results\n",
    "res = LMRt.ReconRes(job.configs['job_dirpath'], verbose=True)"
   ]
  },
  {
   "cell_type": "code",
   "execution_count": null,
   "id": "c220c646",
   "metadata": {},
   "outputs": [],
   "source": [
    "# get the varialbes from the recon_paths\n",
    "res.get_vars(['tas', 'nino3.4'], verbose=True)"
   ]
  },
  {
   "cell_type": "code",
   "execution_count": null,
   "id": "d46ab427",
   "metadata": {},
   "outputs": [],
   "source": [
    "# plot the tas field\n",
    "fig, ax = res.vars['tas'].field_list[0].plot()"
   ]
  },
  {
   "cell_type": "code",
   "execution_count": null,
   "id": "b861779c",
   "metadata": {},
   "outputs": [],
   "source": [
    "# plot and validate the NINO3.4\n",
    "from scipy.io import loadmat\n",
    "\n",
    "data = loadmat('./testcases/PAGES2k_CCSM4_GISTEMP/data/obs/NINO34_BC09.mat')\n",
    "syr, eyr = 1873, 2000\n",
    "nyr = eyr-syr+1\n",
    "nino34 = np.zeros(nyr)\n",
    "for i in range(nyr):\n",
    "    nino34[i] = np.mean(data['nino34'][i*12:12+i*12])\n",
    "\n",
    "target_series = LMRt.Series(time=np.arange(syr, eyr+1), value=nino34, label='BC09')\n",
    "\n",
    "fig, ax = res.vars['nino3.4'].validate(target_series, verbose=True).plot(xlim=[1880, 2000])"
   ]
  }
 ],
 "metadata": {
  "kernelspec": {
   "display_name": "Python 3",
   "language": "python",
   "name": "python3"
  },
  "language_info": {
   "codemirror_mode": {
    "name": "ipython",
    "version": 3
   },
   "file_extension": ".py",
   "mimetype": "text/x-python",
   "name": "python",
   "nbconvert_exporter": "python",
   "pygments_lexer": "ipython3",
   "version": "3.8.12"
  }
 },
 "nbformat": 4,
 "nbformat_minor": 5
}
